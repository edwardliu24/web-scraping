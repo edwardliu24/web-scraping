{
 "cells": [
  {
   "cell_type": "markdown",
   "id": "56e2d1f0",
   "metadata": {},
   "source": [
    "# IMDB website scraping"
   ]
  },
  {
   "cell_type": "markdown",
   "id": "a61b26ca",
   "metadata": {},
   "source": [
    "In this project, we will find the movie with most shared actors, given your favourite movie"
   ]
  },
  {
   "cell_type": "markdown",
   "id": "210d4201",
   "metadata": {},
   "source": [
    "## Link to github"
   ]
  },
  {
   "cell_type": "markdown",
   "id": "a5a83b2b",
   "metadata": {},
   "source": [
    "\"https://github.com/edwardliu24/web-scraping\""
   ]
  },
  {
   "cell_type": "markdown",
   "id": "66bb5a2c",
   "metadata": {},
   "source": [
    "## Preparation"
   ]
  },
  {
   "cell_type": "markdown",
   "id": "9d0d4a90",
   "metadata": {},
   "source": [
    "First import all these modules for the project function properly"
   ]
  },
  {
   "cell_type": "code",
   "execution_count": 2,
   "id": "b427e40a",
   "metadata": {},
   "outputs": [],
   "source": [
    "import scrapy\n",
    "from scrapy.http import Request\n",
    "import pandas as pd\n",
    "from plotly import express as px\n",
    "from plotly.io import write_html"
   ]
  },
  {
   "cell_type": "markdown",
   "id": "9b39748e",
   "metadata": {},
   "source": [
    "Open the terminal, at the directory you want your project be, run the command \"scrapy startproject IMDB_scraper\",navigate to the directory, add CLOSESPIDER_PAGECOUNT = 20 to the file \"settings.py\""
   ]
  },
  {
   "cell_type": "markdown",
   "id": "826c17ce",
   "metadata": {},
   "source": [
    "## Coding the spider"
   ]
  },
  {
   "cell_type": "markdown",
   "id": "9cd695a2",
   "metadata": {},
   "source": [
    "Create a file named IMDB_spider.py under the folder named spider, and in the py file, define a Imdbspider class."
   ]
  },
  {
   "cell_type": "code",
   "execution_count": null,
   "id": "891f9ef8",
   "metadata": {},
   "outputs": [],
   "source": [
    "class ImdbSpider(scrapy.Spider):\n",
    "    ## spider class with name \"imdb_spider\",the url starts with is \"https://www.imdb.com/title/tt1533117/?ref_=fn_al_tt_1\"\n",
    "    name = 'imdb_spider'\n",
    "    \n",
    "    start_urls = [\"https://www.imdb.com/title/tt1533117/?ref_=fn_al_tt_1\"]"
   ]
  },
  {
   "cell_type": "markdown",
   "id": "89c51029",
   "metadata": {},
   "source": [
    "This is the parse method would be used at the initial page"
   ]
  },
  {
   "cell_type": "code",
   "execution_count": null,
   "id": "e917c2c7",
   "metadata": {},
   "outputs": [],
   "source": [
    "def parse(self, response):\n",
    "    '''\n",
    "    Scrape on the initilia page and open the 'cast&crew' link\n",
    "    Input: response, the html source code of the initial page\n",
    "    Output: link to the cast page, and call parse_full_credits on that page\n",
    "    \n",
    "    '''\n",
    "    \n",
    "    ##Extract the link of \"cast&crew\"\n",
    "    full_credits = response.css(\"li.ipc-inline-list__item a[href*=fullcredits]\").attrib['href']\n",
    "    \n",
    "    ##Make the next url\n",
    "    prefix = \"https://www.imdb.com/title/tt1533117/\"\n",
    "    cast_url = prefix + full_credits\n",
    "\n",
    "    ##Request the parse_full_credits method on the next url\n",
    "    yield Request(cast_url, callback = self.parse_full_credits)\n"
   ]
  },
  {
   "cell_type": "markdown",
   "id": "816c3030",
   "metadata": {},
   "source": [
    "This is the parse method would be used at the cast&crew page"
   ]
  },
  {
   "cell_type": "code",
   "execution_count": null,
   "id": "b7848c90",
   "metadata": {},
   "outputs": [],
   "source": [
    "def parse_full_credits(self, response):\n",
    "    '''\n",
    "    Find all the actor page of the actors in the movie\n",
    "    Input: response, the html source code of the cast page\n",
    "    Output: link to the actor page, and call parse_actor_page on that page\n",
    "    '''\n",
    "    \n",
    "    ##Get all the links of each ators\n",
    "    actor_page = [a.attrib[\"href\"] for a in response.css(\"td.primary_photo a\")]\n",
    "    \n",
    "    ##Make a list of all the links to actor page\n",
    "    prefix = \"https://www.imdb.com/\"\n",
    "    actor_url = [prefix + suffix for suffix in actor_page]\n",
    "\n",
    "    ##For each link, open the actor page and call the parse_actor_page method\n",
    "    for url in actor_url:\n",
    "        yield Request(url, callback = self.parse_actor_page)\n"
   ]
  },
  {
   "cell_type": "markdown",
   "id": "7d862b41",
   "metadata": {},
   "source": [
    "This is the parse method would be used at the actor page"
   ]
  },
  {
   "cell_type": "code",
   "execution_count": null,
   "id": "a69307eb",
   "metadata": {},
   "outputs": [],
   "source": [
    "def parse_actor_page(self, response):\n",
    "    '''\n",
    "    Scrape on the actor page, scrape all the movies that this actor participated,output a dictionary with actor names and movies\n",
    "    Input: response, the html source code of the actor page\n",
    "    Output: A dictionary with actor names and movie names\n",
    "    '''\n",
    "    \n",
    "    ##Scrpae the names of the actor\n",
    "    name = response.css(\"h1.header span::text\").get()\n",
    "    \n",
    "    ##Scrape all the movies that this actor was in\n",
    "    for movie in response.css(\"div.filmo-row\"):\n",
    "        movies = movie.css(\"a::text\").get()\n",
    "        \n",
    "        ##yield a dictionary\n",
    "        yield {\n",
    "            \"actor\" : name,\n",
    "            \"movies\" : movies\n",
    "        }"
   ]
  },
  {
   "cell_type": "markdown",
   "id": "6f0359b6",
   "metadata": {},
   "source": [
    "All these three functions should be defined under the imdbspider class"
   ]
  },
  {
   "cell_type": "markdown",
   "id": "5154b2e1",
   "metadata": {},
   "source": [
    "## Method implementing"
   ]
  },
  {
   "cell_type": "markdown",
   "id": "78d1e0e6",
   "metadata": {},
   "source": [
    "After finishing coding the spider file, we could run \"scrapy crawl imdb_spider -o results.csv\" in the terminal to get the results, then we get a file named \"resultys.csv\""
   ]
  },
  {
   "cell_type": "code",
   "execution_count": 3,
   "id": "85ae0c8e",
   "metadata": {},
   "outputs": [],
   "source": [
    "result=pd.read_csv(\"results.csv\")"
   ]
  },
  {
   "cell_type": "code",
   "execution_count": 4,
   "id": "c6158f83",
   "metadata": {},
   "outputs": [],
   "source": [
    "df = result.value_counts(['movies'])"
   ]
  },
  {
   "cell_type": "markdown",
   "id": "37c0c851",
   "metadata": {},
   "source": [
    "Do some data cleaning to get the desired results."
   ]
  },
  {
   "cell_type": "code",
   "execution_count": 5,
   "id": "00bf6e02",
   "metadata": {},
   "outputs": [
    {
     "data": {
      "text/html": [
       "<div>\n",
       "<style scoped>\n",
       "    .dataframe tbody tr th:only-of-type {\n",
       "        vertical-align: middle;\n",
       "    }\n",
       "\n",
       "    .dataframe tbody tr th {\n",
       "        vertical-align: top;\n",
       "    }\n",
       "\n",
       "    .dataframe thead th {\n",
       "        text-align: right;\n",
       "    }\n",
       "</style>\n",
       "<table border=\"1\" class=\"dataframe\">\n",
       "  <thead>\n",
       "    <tr style=\"text-align: right;\">\n",
       "      <th></th>\n",
       "      <th>movies</th>\n",
       "      <th>number of shared actors</th>\n",
       "    </tr>\n",
       "  </thead>\n",
       "  <tbody>\n",
       "    <tr>\n",
       "      <th>0</th>\n",
       "      <td>Let the Bullets Fly</td>\n",
       "      <td>34</td>\n",
       "    </tr>\n",
       "    <tr>\n",
       "      <th>1</th>\n",
       "      <td>Gone with the Bullets</td>\n",
       "      <td>10</td>\n",
       "    </tr>\n",
       "    <tr>\n",
       "      <th>2</th>\n",
       "      <td>The Sun Also Rises</td>\n",
       "      <td>9</td>\n",
       "    </tr>\n",
       "    <tr>\n",
       "      <th>3</th>\n",
       "      <td>Hidden Man</td>\n",
       "      <td>8</td>\n",
       "    </tr>\n",
       "    <tr>\n",
       "      <th>4</th>\n",
       "      <td>The Founding of a Republic</td>\n",
       "      <td>8</td>\n",
       "    </tr>\n",
       "  </tbody>\n",
       "</table>\n",
       "</div>"
      ],
      "text/plain": [
       "                       movies  number of shared actors\n",
       "0         Let the Bullets Fly                       34\n",
       "1       Gone with the Bullets                       10\n",
       "2          The Sun Also Rises                        9\n",
       "3                  Hidden Man                        8\n",
       "4  The Founding of a Republic                        8"
      ]
     },
     "execution_count": 5,
     "metadata": {},
     "output_type": "execute_result"
    }
   ],
   "source": [
    "result = pd.read_csv(\"results.csv\")\n",
    "df = result.value_counts(['movies'])\n",
    "df = pd.DataFrame(df)\n",
    "df = df.reset_index()\n",
    "df.columns = ['movies','number of shared actors']\n",
    "df.head()"
   ]
  },
  {
   "cell_type": "markdown",
   "id": "1a9247d4",
   "metadata": {},
   "source": [
    "Draw a scatter plot to visualize the results."
   ]
  },
  {
   "cell_type": "code",
   "execution_count": 11,
   "id": "c9284efa",
   "metadata": {},
   "outputs": [],
   "source": [
    "fig = px.scatter(data_frame = df, \n",
    "                 x = 'movies',\n",
    "                 y = 'number of shared actors', \n",
    "                 width = 1000,\n",
    "                 height = 700,\n",
    "                 title = \"Scatter plot of the counts of shared actors\")\n",
    "write_html(fig, \"movie_recommend.html\")"
   ]
  }
 ],
 "metadata": {
  "kernelspec": {
   "display_name": "Python 3 (ipykernel)",
   "language": "python",
   "name": "python3"
  },
  "language_info": {
   "codemirror_mode": {
    "name": "ipython",
    "version": 3
   },
   "file_extension": ".py",
   "mimetype": "text/x-python",
   "name": "python",
   "nbconvert_exporter": "python",
   "pygments_lexer": "ipython3",
   "version": "3.7.13"
  }
 },
 "nbformat": 4,
 "nbformat_minor": 5
}
