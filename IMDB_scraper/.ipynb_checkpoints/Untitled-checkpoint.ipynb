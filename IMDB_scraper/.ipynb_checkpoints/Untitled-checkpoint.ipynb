{
 "cells": [
  {
   "cell_type": "code",
   "execution_count": 18,
   "id": "d056c596",
   "metadata": {},
   "outputs": [],
   "source": [
    "import scrapy\n",
    "from scrapy.http import Request\n",
    "import pands as pd\n",
    "from plotly import express as px"
   ]
  },
  {
   "cell_type": "code",
   "execution_count": null,
   "id": "891f9ef8",
   "metadata": {},
   "outputs": [],
   "source": [
    "class ImdbSpider(scrapy.Spider):\n",
    "    name = 'imdb_spider'\n",
    "    \n",
    "    start_urls = [\"https://www.imdb.com/title/tt1533117/?ref_=fn_al_tt_1\"]"
   ]
  },
  {
   "cell_type": "code",
   "execution_count": null,
   "id": "e917c2c7",
   "metadata": {},
   "outputs": [],
   "source": [
    "def parse(self, response):\n",
    "        full_credits = response.css(\"li.ipc-inline-list__item a[href*=fullcredits]\").attrib['href']\n",
    "        prefix = \"https://www.imdb.com/title/tt1533117/\"\n",
    "        cast_url = prefix + full_credits\n",
    "\n",
    "        yield Request(cast_url, callback = self.parse_full_credits)\n"
   ]
  },
  {
   "cell_type": "code",
   "execution_count": null,
   "id": "b7848c90",
   "metadata": {},
   "outputs": [],
   "source": [
    "def parse_full_credits(self, response):\n",
    "\n",
    "        actor_page = [a.attrib[\"href\"] for a in response.css(\"td.primary_photo a\")]\n",
    "        prefix = \"https://www.imdb.com/\"\n",
    "        actor_url = [prefix + suffix for suffix in actor_page]\n",
    "\n",
    "        for url in actor_url:\n",
    "            yield Request(url, callback = self.parse_actor_page)\n"
   ]
  },
  {
   "cell_type": "code",
   "execution_count": null,
   "id": "a69307eb",
   "metadata": {},
   "outputs": [],
   "source": [
    "def parse_actor_page(self, response):\n",
    "    name = response.css(\"h1.header span::text\").get()\n",
    "    for movie in response.css(\"div.filmo-row\"):\n",
    "        movies = movie.css(\"a::text\").get()\n",
    "\n",
    "        yield {\n",
    "            \"actor\" : name,\n",
    "            \"movies\" : movies\n",
    "        }"
   ]
  },
  {
   "cell_type": "code",
   "execution_count": 2,
   "id": "85ae0c8e",
   "metadata": {},
   "outputs": [],
   "source": [
    "result=pd.read_csv(\"results.csv\")"
   ]
  },
  {
   "cell_type": "code",
   "execution_count": 68,
   "id": "c6158f83",
   "metadata": {},
   "outputs": [],
   "source": [
    "df = result.value_counts(['movies'])"
   ]
  },
  {
   "cell_type": "code",
   "execution_count": 71,
   "id": "00bf6e02",
   "metadata": {},
   "outputs": [
    {
     "data": {
      "text/html": [
       "<div>\n",
       "<style scoped>\n",
       "    .dataframe tbody tr th:only-of-type {\n",
       "        vertical-align: middle;\n",
       "    }\n",
       "\n",
       "    .dataframe tbody tr th {\n",
       "        vertical-align: top;\n",
       "    }\n",
       "\n",
       "    .dataframe thead th {\n",
       "        text-align: right;\n",
       "    }\n",
       "</style>\n",
       "<table border=\"1\" class=\"dataframe\">\n",
       "  <thead>\n",
       "    <tr style=\"text-align: right;\">\n",
       "      <th></th>\n",
       "      <th>movies</th>\n",
       "      <th>number of shared actors</th>\n",
       "    </tr>\n",
       "  </thead>\n",
       "  <tbody>\n",
       "    <tr>\n",
       "      <th>0</th>\n",
       "      <td>Let the Bullets Fly</td>\n",
       "      <td>34</td>\n",
       "    </tr>\n",
       "    <tr>\n",
       "      <th>1</th>\n",
       "      <td>Gone with the Bullets</td>\n",
       "      <td>10</td>\n",
       "    </tr>\n",
       "    <tr>\n",
       "      <th>2</th>\n",
       "      <td>The Sun Also Rises</td>\n",
       "      <td>9</td>\n",
       "    </tr>\n",
       "    <tr>\n",
       "      <th>3</th>\n",
       "      <td>Hidden Man</td>\n",
       "      <td>8</td>\n",
       "    </tr>\n",
       "    <tr>\n",
       "      <th>4</th>\n",
       "      <td>The Founding of a Republic</td>\n",
       "      <td>8</td>\n",
       "    </tr>\n",
       "    <tr>\n",
       "      <th>...</th>\n",
       "      <td>...</td>\n",
       "      <td>...</td>\n",
       "    </tr>\n",
       "    <tr>\n",
       "      <th>687</th>\n",
       "      <td>Intimates</td>\n",
       "      <td>1</td>\n",
       "    </tr>\n",
       "    <tr>\n",
       "      <th>688</th>\n",
       "      <td>Itchy Heart</td>\n",
       "      <td>1</td>\n",
       "    </tr>\n",
       "    <tr>\n",
       "      <th>689</th>\n",
       "      <td>Jasmine Flower</td>\n",
       "      <td>1</td>\n",
       "    </tr>\n",
       "    <tr>\n",
       "      <th>690</th>\n",
       "      <td>Ji xing gao zhao</td>\n",
       "      <td>1</td>\n",
       "    </tr>\n",
       "    <tr>\n",
       "      <th>691</th>\n",
       "      <td>Ôsama no buranchi</td>\n",
       "      <td>1</td>\n",
       "    </tr>\n",
       "  </tbody>\n",
       "</table>\n",
       "<p>692 rows × 2 columns</p>\n",
       "</div>"
      ],
      "text/plain": [
       "                         movies  number of shared actors\n",
       "0           Let the Bullets Fly                       34\n",
       "1         Gone with the Bullets                       10\n",
       "2            The Sun Also Rises                        9\n",
       "3                    Hidden Man                        8\n",
       "4    The Founding of a Republic                        8\n",
       "..                          ...                      ...\n",
       "687                   Intimates                        1\n",
       "688                 Itchy Heart                        1\n",
       "689              Jasmine Flower                        1\n",
       "690            Ji xing gao zhao                        1\n",
       "691           Ôsama no buranchi                        1\n",
       "\n",
       "[692 rows x 2 columns]"
      ]
     },
     "execution_count": 71,
     "metadata": {},
     "output_type": "execute_result"
    }
   ],
   "source": [
    "result = pd.read_csv(\"results.csv\")\n",
    "df = result.value_counts(['movies'])\n",
    "df = pd.DataFrame(df)\n",
    "df = df.reset_index()\n",
    "df.columns = ['movies','number of shared actors']\n",
    "df.head()"
   ]
  },
  {
   "cell_type": "code",
   "execution_count": 74,
   "id": "c9284efa",
   "metadata": {},
   "outputs": [
    {
     "data": {
      "application/vnd.plotly.v1+json": {
       "config": {
        "plotlyServerURL": "https://plot.ly"
       },
       "data": [
        {
         "hovertemplate": "movies=%{x}<br>number of shared actors=%{y}<extra></extra>",
         "legendgroup": "",
         "marker": {
          "color": "#636efa",
          "symbol": "circle"
         },
         "mode": "markers",
         "name": "",
         "orientation": "v",
         "showlegend": false,
         "type": "scatter",
         "x": [
          "Let the Bullets Fly",
          "Gone with the Bullets",
          "The Sun Also Rises",
          "Hidden Man",
          "The Founding of a Republic",
          "If You Are the One 2",
          "Tales of Chinese Filmmakers",
          "Beginning of the Great Revival",
          "I Love My Family",
          "Assembly",
          "The Robbers",
          "The Door",
          "A Native of Beijing in New York",
          "In the Heat of the Sun",
          "Stories of an Editorial Board",
          "Devils on the Doorstep",
          "Getting Home",
          "My People, My Country",
          "I Am Not Madame Bovary",
          "World Film Report",
          "Be There or Be Square",
          "The Dream Factory",
          "Gimme Kudos",
          "Baba",
          "Nature Is Speaking",
          "Cook Up a Storm",
          "Chinese Zodiac",
          "If You Are the One",
          "Yong shi wo ai",
          "Showtime",
          "Personal Tailor",
          "Phanta City",
          "Da wan",
          "Cell Phone",
          "The Banquet",
          "A Date with Luyu",
          "Curiosity Kills the Cat",
          "A World Without Thieves",
          "Cell Phone 2",
          "To Live",
          "Tragic Hero",
          "I'm Looking Forward to Being Loved",
          "Flying Swords of Dragon Gate",
          "Sui Tang Yan Yi",
          "Love on Credit",
          "Rich and Famous",
          "From Vegas to Macau III",
          "Love is Not Blind",
          "Cala, My Dog!",
          "From Vegas to Macau II",
          "Lost in 1949",
          "Infernal Affairs II",
          "The Last Tycoon",
          "The Postmodern Life of My Aunt",
          "Sigh",
          "The Return of the Condor Heroes",
          "Da Sa Ba",
          "Curse of the Golden Flower",
          "The Morning After",
          "Crouching Tiger, Hidden Dragon",
          "Crossed Lines",
          "Keep Cool",
          "The Missing Gun",
          "Sorry Baby",
          "Jing zhuong zhui nu zi zhi er",
          "Confucius",
          "Jin hun feng yu qing",
          "Ever Night",
          "The Lost Bladesman",
          "Father and Hero",
          "The Yangs' Saga",
          "Love Story in Shanghai",
          "Cairo Declaration",
          "Detective Dee: The Mystery of the Phantom Flame",
          "Qin song",
          "The Battle Among the Clans",
          "Youth",
          "Yi ching chun dik ming yi",
          "Back to 1942",
          "My Beloved Bodyguard",
          "Young Detective Dee: Rise of the Sea Dragon",
          "Ash Is Purest White",
          "As the Light Goes Out",
          "Hunting",
          "Hard Boiled",
          "The Assassins",
          "Wu yue huai hua xiang",
          "Xi Feng De Hua (Whisper in the Wind)",
          "Now You See It, Now You Don't",
          "Yi di ji mao",
          "All About Ah-Long",
          "Police Cadet II",
          "Mulan: Rise of a Warrior",
          "The Curse of Turandot",
          "Happy Hotel",
          "Bodyguards and Assassins",
          "Born Coward",
          "Very Kidnappers",
          "Voice",
          "Bends",
          "Peace Hotel",
          "1911",
          "Waiting Alone",
          "War of Desire",
          "Vacation of Love",
          "Swordsmen of the Passes",
          "Full Circle",
          "Warriors of Heaven and Earth",
          "Guardian of the Palace",
          "Baober in Love",
          "Only You",
          "Song of Youth",
          "The Assassin",
          "Simple Happiness: Xiao Xing Fu",
          "Snow in the Wind",
          "Siu mo kong wu",
          "Snow Flower and the Secret Fan",
          "Snow Dance",
          "Smiling Bracelet",
          "Smile in Spring",
          "Siu sang mung ging wan",
          "Si qian jin",
          "The 72nd Annual Academy Awards",
          "Song of the Assassins",
          "Steel Meets Fire",
          "Sui yue",
          "Super Boy",
          "Sword Dynasty",
          "Sword Snow Stride",
          "T.R.Y.",
          "Temporary Family",
          "Suffocation",
          "The 11th China Movie Awards",
          "Stranglehold",
          "StarCraft",
          "Songs of the Youth 1969",
          "Star Wars: Go Rogue",
          "The 601st Phone Call",
          "Spiritual Love",
          "Spicy Love Soup",
          "Speed Angels",
          "Special Collector's Edition",
          "The 73rd Annual Academy Awards",
          "The Adventures of Panda Warrior",
          "The Advisors Alliance",
          "Sunrise, Sunset",
          "Sha Hai Lao Bing",
          "Shuo huang de nu ren",
          "Rescue the Hostages",
          "Qun ying luan wu",
          "Red Cliff",
          "Red Cliff II",
          "Red River Valley",
          "Red Snow",
          "Red Sorghum",
          "Remainder",
          "Reservoir Dogs",
          "Rogue One: A Star Wars Story",
          "Rest on Your Shoulder",
          "Return of the Lucky Stars",
          "Reunion: The Sound of the Providence",
          "Revival",
          "Rexue zhonghun zhi duxing shiwei",
          "Rhapsody of Spring",
          "Riding Alone for Thousands of Miles",
          "Qing Chun Si Shi",
          "Qianli lei sheng wanli shan",
          "Qian wang qing ren",
          "Qi chuan xu xu",
          "Peking Duck Restaurant",
          "Peony Pavilion",
          "Phantom of the Theatre",
          "Pirates of the Caribbean: At World's End",
          "Pk.com.cn",
          "Planet Voice",
          "Playboy Cops",
          "Po ju 1950",
          "Polar Rescue",
          "Police Cadet III",
          "Prison on Fire",
          "Prison on Fire II",
          "Project A 2",
          "Project Gutenberg",
          "Psych Hunter",
          "Roast",
          "Roots and Branches",
          "Shower",
          "She Shoots Straight",
          "Shan de nu er",
          "Shanghai",
          "Shanghai Beach",
          "Shanghai Blue",
          "Shanghai Red",
          "Shao nian da qin chai",
          "Shaolin",
          "Shen hua",
          "Rose Rose I Love You",
          "Shen tan gan shi lu",
          "Sheng di er ji na",
          "Sheng xia he ta de wei hun fu",
          "Shi Yan Jin Sheng",
          "Shi Yan Juan Tian Ya",
          "Shi ba",
          "Shock Wave",
          "Shadow",
          "The Big Lie Bang",
          "Sex and the Beauties",
          "Seven Swords",
          "Royal Nirvana",
          "Ru ce",
          "Running Man",
          "Ruyi's Royal Love in the Palace",
          "Rémy Julienne: 50 ans de cascades",
          "Saat sau qi shi er siu si",
          "Sacrifice",
          "San jaat si hing",
          "San ren shi jie",
          "Savage",
          "Saving General Yang",
          "Saviour of the Soul",
          "Schemes in Antiques",
          "Secrets Within: Inside Look at 'Curse of the Golden Flower'",
          "See You Again",
          "The Battle at Lake Changjin",
          "\"Lotus Lantern\"",
          "The Biography of Sun Tzu",
          "Trivial Matters",
          "Tiny Times 2.0",
          "To Fly with You",
          "To Kill a Watermelon",
          "Tou tai ren",
          "Treasure Hunt",
          "Triads: The Inside Story",
          "Triumphantly Returning at Midnight",
          "True Legend",
          "VeggieTales FitnessHof",
          "True and False Monkey King",
          "Truth or Dare",
          "Two Tigers",
          "U Can You BB",
          "Underground 2: Islands Continent",
          "Unexpected Passion",
          "Up Idol",
          "Tiger on Beat",
          "Tie xue qing chun",
          "Tie ren",
          "Tian tai de yue guang",
          "The Turbulent Decade",
          "The Vanished Woman",
          "The Viral Factor",
          "The Warring States",
          "The Warrior and the Wolf",
          "The Wasted Times",
          "The Way of the Bug",
          "The Wild Goose Lake",
          "The Wind Blows from Longxi",
          "The World of Chow Yun-Fan",
          "The Yinyang Master",
          "This Is Me",
          "Three Old Boys",
          "Tian kong xia de yuan fen",
          "Tian sheng chang ge",
          "Vancouver",
          "Wait 'Til You're Older",
          "The Blossom of Roses",
          "You Are My Sisters",
          "Yang Lan One on One",
          "Yang Married",
          "Yang Shan Zhou",
          "Yee but yung ching",
          "Yi lu shang you ni",
          "Yin hun nan nu",
          "Ying jia",
          "You cai hua xiang",
          "Warriors of Future",
          "Yu wangshi ganbei",
          "Zai jian ying xiong",
          "Zhen guan zhi zhi",
          "Zhi Ming Yuan Wang",
          "Zhongkui: Snow Girl and the Dark Crystal",
          "Zou dao di",
          "Zou xi kou",
          "Xin Su xiao mei san nan xin lang",
          "Xiao ao jiang hu",
          "Xiao Qing Ren",
          "Wrath of Silence",
          "Water Gate Bridge",
          "Welcom to the Game",
          "Where the Action Is",
          "White Vengeance",
          "Who Do You Think You're Fooling?",
          "Who's the Woman, Who's the Man",
          "Why Me?",
          "Wild Desert",
          "Wild Search",
          "Wild Swords",
          "Witch from Nepal",
          "Woman-Taxi-Woman",
          "Women",
          "Women in Shanghai",
          "World Second",
          "The Troubleshooters",
          "The Treasure Hunter",
          "The Tonight Show with Jay Leno",
          "The Invaluable Treasure",
          "The Greatest Lover",
          "The Guilty Ones",
          "The Hand",
          "Painted Skin: The Resurrection",
          "The Head Hunter",
          "The Hero of Swallow",
          "The Imperial Age",
          "The Killer",
          "The Taking of Tiger Mountain",
          "The Knot",
          "The Last Empress",
          "The Last Eunuch",
          "The Legend Hunters",
          "The Legend of Emperor Yan",
          "The Legend of Master So",
          "The Legend of the Condor Heroes",
          "The Great Revival",
          "The Game of Killing",
          "The Fun, the Luck & the Tycoon",
          "The Four",
          "The Bund",
          "The Children of Huang Shi",
          "The Composer",
          "The Corruptor",
          "The Curse of Chopsticks",
          "The Demons Strike in Baiyu Town",
          "The Diary of a Big Man",
          "The Duke of Mount Deer",
          "The Eagle Shooting Heroes",
          "The Eight Hundred",
          "The Eighth Happiness",
          "The Empty Mirror",
          "The Executor",
          "The Final Master",
          "The Floating Shadow",
          "The Line",
          "The Locked Door",
          "The Long Night",
          "The Pretending Lovers",
          "The Radio Tycoon",
          "The Replacement Killers",
          "The Resistance",
          "The Return of the God of Gamblers",
          "The Romancing Star",
          "The Scientist Jiang Zhuying",
          "The Seventh Curse",
          "The Soong Sisters",
          "The Sorcerer and the White Snake",
          "The Spring Festival",
          "The Star and the Sea",
          "The Stool Pigeon",
          "The Stories: The Making of 'Rogue One: A Star Wars Story'",
          "The Story of Woo Viet",
          "The Story of a Noble Family",
          "The Queens",
          "The Postman Strikes Back",
          "The Lost Tomb 2",
          "The One Man Olympics",
          "The Lunatics",
          "The Man from Macau",
          "The Marriage Certificate",
          "The Message",
          "The Missed Date",
          "The Monkey King 3D: Uproar in Heaven",
          "The Monkey King Havoc in Heavens Palace",
          "The Monkey King: The Legend Begins",
          "The Music Box",
          "The Mysterious Family",
          "The Myth",
          "The Nation's Greatest Treasures",
          "The New Year's Eve of Old Lee",
          "The Night Rider",
          "The Occupant",
          "Palace 2",
          "Monster Hunt",
          "Painted Skin",
          "Days of Being Wild",
          "Crying Out in Love",
          "Da Qi Ceng Xiao Shi",
          "Da lu",
          "Da sheng hu han ni hui lai",
          "Da zhai men",
          "Dad's Cabin (2016)",
          "Day Day Up",
          "Deadly Melody",
          "Cross Fire",
          "Demi-Gods and Semi-Devils",
          "Desert Sea",
          "Desert Warrior",
          "Desires of the Heart",
          "Detection of Di Renjie",
          "Detective Dee: Solitary Skies Killer",
          "Detective Dee: The Four Heavenly Kings",
          "Crossroad Bistro",
          "Crazy Hong Kong",
          "Original Sin",
          "Codename Cougar",
          "Cinema of Vengeance",
          "Circulation",
          "City War",
          "City Warriors",
          "City on Fire",
          "Clay Fear",
          "Code of Honour",
          "Cold War 2",
          "Crash Landing",
          "Cold War III",
          "Comic Star",
          "Confession of an Adult Filmmaker",
          "Conned Once",
          "Control",
          "Cop Shop Babes",
          "Court Battle",
          "Detective Ke Chen",
          "Di Renjie: The Lost Gold",
          "Diablo",
          "Flaming Brothers",
          "Fan fu da yuan",
          "Farewell My Concubine",
          "Fearless Hero",
          "Fengshen Trilogy",
          "Festival de cine de San Sebastián 2016 - Gala de clausura",
          "Firestorm",
          "Fit Lover",
          "Flash Over",
          "Divorce Wars",
          "Fleet of Time",
          "Flowers of Shanghai",
          "Fo fung wong",
          "Forbidden City Cop",
          "Fortress Besieged",
          "Four Loves",
          "Fractured Follies",
          "Everybody's Fine",
          "Eternal Beloved",
          "Eros",
          "Entertainment Tonight",
          "Don Quixote",
          "Dong bian ri chu xi bian yu",
          "Double World",
          "Dragon",
          "Dragonball Evolution",
          "Dream Lovers",
          "Duckweed",
          "Dynasty Warriors",
          "Días de cine",
          "East Palace, West Palace",
          "Eastern Heroes: The Video Magazine - Volume 2",
          "Eighteen Springs",
          "Empires of the Deep",
          "Endless Loop",
          "Endless Love",
          "Ci wei",
          "Ci Ye",
          "Chrysanthemum to the Beast",
          "Angry Kid",
          "Ai yu kuang chao",
          "All Quiet in Beiping",
          "All the Invisible Children",
          "All's Well, Ends Well 2011",
          "American Masters",
          "An Autumn's Tale",
          "Angels and Devils",
          "Anna and the King",
          "Bad Daughter",
          "Arc Peace",
          "Armour of God",
          "Arsenal Military Academy",
          "Ashes of Time",
          "Asura",
          "Asura Bride",
          "Auntie Duohe",
          "Aftershock",
          "Advance Wave Upon Wave",
          "A Woman for Two",
          "A White Horse Named Feifei",
          "1921",
          "2000 Blockbuster Entertainment Awards",
          "2007 AZN Asian Excellence Awards",
          "2046",
          "749 Ju",
          "A Beautiful New World",
          "A Better Tomorrow",
          "A Better Tomorrow II",
          "A Better Tomorrow III: Love and Death in Saigon",
          "A City Called Macau",
          "A Dream in Red Mansions",
          "A Hearty Response",
          "A Mysterious Robber",
          "A Touch of Sin",
          "A West Lake Moment",
          "Bad Daddy",
          "Bad Guys Always Die",
          "Chow Yun-Fat Goes Hollywood",
          "Cherries",
          "Candle in the Tomb: The Lost Caverns",
          "Cannes Film Festival",
          "Center Stage",
          "Chang hen ge",
          "Chao Shi Kong Luo Man Shi",
          "Chao yue",
          "Chasing Dream",
          "Cherry Blossoms",
          "Balzac and the Little Chinese Seamstress",
          "Chicken Poets",
          "Chin wong kwun ying wui",
          "China White",
          "Chinese Doctors",
          "Chinese peacekeeping police",
          "Chong tian fei bao",
          "Chou tan qi ge ban",
          "Camp Rock 2: The Final Jam",
          "C'est la vie, mon chéri",
          "Burning Ice",
          "Bulletproof Monk",
          "Ban Sheng Yuan",
          "Ban ye",
          "Battle of Memories",
          "Beast Stalker",
          "Beautiful Accident",
          "Bed for Day, Bed for Night",
          "Beijing Love Story",
          "Ben teng nian dai",
          "Black Coal, Thin Ice",
          "Black Snow",
          "Blood Money",
          "Bloopers of the Caribbean",
          "Break Through the Darkness",
          "Breaking the Waves",
          "Bull Brothers",
          "From the (Under)Ground Up: The Making of 'The Corruptor'",
          "Fu xing lin men",
          "Fu zi hun shi",
          "Love in Space",
          "Love Motel",
          "Love Only",
          "Love Shock",
          "Love Unto Waste",
          "Love and Destiny",
          "Love at First Sight",
          "Love in Disguise",
          "Love in a Fallen City",
          "Marry to the West",
          "Love on the Cloud",
          "Luxury Era",
          "Ma lu qi shi",
          "Magical Hands",
          "Mai Ban Zhi Jia",
          "Mang dao",
          "Mao's Last Dancer",
          "Love Generation Hong Kong",
          "Love After Love",
          "Lotus Lantern",
          "Lost, Found",
          "Lethal Hostage",
          "Letter from an Unknown Woman",
          "Liberation",
          "Licence to Steal",
          "Little Q",
          "Lonely Battle",
          "Longmen Express",
          "Looking Up",
          "Looking for Jackie",
          "Lord of East China Sea",
          "Lord of East China Sea II",
          "Lord of Shanghai",
          "Lord of Shanghai II",
          "Lost Romance",
          "Lost in Panic Room",
          "Marriage Cuisine",
          "Massage Girls",
          "Let the Wind Carry Me",
          "Nu er dang zi qiang",
          "My Will, I Will",
          "National Anthem",
          "Naughty Boys",
          "Never Stop",
          "New York, I Love You",
          "No More Love No More Death",
          "No Retreat",
          "Nulle part ailleurs. 1ère partie",
          "Master of My Own",
          "Ocean Flame",
          "Office",
          "Once a Thief",
          "One Foot Off the Ground",
          "One Hundred",
          "One Night Surprise",
          "Only Cloud Knows",
          "My Rival is Son-in-law, My Lover is Son-in-law",
          "My People, My Homeland",
          "My Father and I",
          "My Ex-Wife's Wedding",
          "Meng nu da zei sha zhen tan",
          "Meng's Palace",
          "Metallic Attraction: Kungfu Cyborg",
          "Mighty Baby",
          "Min Gan Shi Jian",
          "Minning Town",
          "Miss O",
          "Mnet Asian Music Awards",
          "Mojin: The Lost Legend",
          "Mong chung yan",
          "100 Ways to Murder Your Wife",
          "Mr. Six",
          "Mu Gui Ying gua shuai",
          "Murder at Honeymoon Hotel",
          "My American Grandson",
          "Let's Get Married",
          "Legend of the Naga Pearls",
          "Full Contact",
          "Hard Boiled Killers",
          "Gu Meng",
          "Gu dong ju zhong ju zhi lüe bao qing dan",
          "Gu huo da lu shi",
          "Guilty of Mind",
          "HBO First Look",
          "Hai ma ge wu ting",
          "Happiness Me Too",
          "Harpoon",
          "Hot Girl",
          "He Ain't Heavy... He's My Father",
          "He's a Woman, She's a Man",
          "Hei huo",
          "Hero Dog 2",
          "Hibiscus Town",
          "Hidden Energy",
          "Hong Kong 1941",
          "Green Tea",
          "Green Hat",
          "Golden Chicken",
          "Goddesses in the Flames of War",
          "Ga bin",
          "Game Over",
          "Gao xing",
          "Gary Unmarried",
          "Ge chuang you yan",
          "Genghis Khan",
          "Gentle Bullet",
          "Gigolo and Whore",
          "Girl of the Times",
          "Girls Without Tomorrow",
          "Give Love",
          "God of Gamblers",
          "God of Gamblers 3: The Early Stage",
          "God of Gamblers II",
          "God of War Zhao Yun",
          "Hong Kong wun hei see",
          "Hsue-shen Tsien",
          "Legend of Heavenly Tear: Phoenix Warriors",
          "Kung Fu Yoga",
          "Kain's Quest",
          "Keung yan",
          "Knock Knock",
          "Kung Fu Cult Master",
          "Kung Fu Girls",
          "Kung Fu Hustle",
          "Kung Fu Jungle",
          "La Brassiere",
          "Hu die de wei xiao",
          "Lai dou lai le",
          "Lan Yu",
          "Lao jia xie pai gu ye zi",
          "Last Affair",
          "Lau man dai hung",
          "Le palanquin des larmes",
          "Lee's Adventure",
          "Jue zhan zhi hou",
          "Judge of Song Dynasty",
          "Jia you jiu feng",
          "Jia he wan shi xing zhi shuang xi lin men",
          "Hu xiao cangqiong",
          "Hua hun",
          "Huang he yao",
          "Hui Lang Ting",
          "Huo guo ying xiong",
          "I Dedicate My Youth to You",
          "Ice Fantasy",
          "In the Silence",
          "Infernal Affairs III",
          "Inseparable",
          "Insisrence",
          "Intimates",
          "Itchy Heart",
          "Jasmine Flower",
          "Ji xing gao zhao",
          "Ôsama no buranchi"
         ],
         "xaxis": "x",
         "y": [
          34,
          10,
          9,
          8,
          8,
          6,
          5,
          5,
          5,
          5,
          5,
          4,
          4,
          4,
          4,
          4,
          4,
          3,
          3,
          3,
          3,
          3,
          3,
          3,
          3,
          3,
          3,
          3,
          3,
          3,
          3,
          3,
          3,
          3,
          3,
          3,
          3,
          3,
          2,
          2,
          2,
          2,
          2,
          2,
          2,
          2,
          2,
          2,
          2,
          2,
          2,
          2,
          2,
          2,
          2,
          2,
          2,
          2,
          2,
          2,
          2,
          2,
          2,
          2,
          2,
          2,
          2,
          2,
          2,
          2,
          2,
          2,
          2,
          2,
          2,
          2,
          2,
          2,
          2,
          2,
          2,
          2,
          2,
          2,
          2,
          2,
          2,
          2,
          2,
          2,
          2,
          2,
          2,
          2,
          2,
          2,
          2,
          2,
          2,
          2,
          2,
          2,
          2,
          2,
          2,
          2,
          2,
          2,
          2,
          2,
          2,
          1,
          1,
          1,
          1,
          1,
          1,
          1,
          1,
          1,
          1,
          1,
          1,
          1,
          1,
          1,
          1,
          1,
          1,
          1,
          1,
          1,
          1,
          1,
          1,
          1,
          1,
          1,
          1,
          1,
          1,
          1,
          1,
          1,
          1,
          1,
          1,
          1,
          1,
          1,
          1,
          1,
          1,
          1,
          1,
          1,
          1,
          1,
          1,
          1,
          1,
          1,
          1,
          1,
          1,
          1,
          1,
          1,
          1,
          1,
          1,
          1,
          1,
          1,
          1,
          1,
          1,
          1,
          1,
          1,
          1,
          1,
          1,
          1,
          1,
          1,
          1,
          1,
          1,
          1,
          1,
          1,
          1,
          1,
          1,
          1,
          1,
          1,
          1,
          1,
          1,
          1,
          1,
          1,
          1,
          1,
          1,
          1,
          1,
          1,
          1,
          1,
          1,
          1,
          1,
          1,
          1,
          1,
          1,
          1,
          1,
          1,
          1,
          1,
          1,
          1,
          1,
          1,
          1,
          1,
          1,
          1,
          1,
          1,
          1,
          1,
          1,
          1,
          1,
          1,
          1,
          1,
          1,
          1,
          1,
          1,
          1,
          1,
          1,
          1,
          1,
          1,
          1,
          1,
          1,
          1,
          1,
          1,
          1,
          1,
          1,
          1,
          1,
          1,
          1,
          1,
          1,
          1,
          1,
          1,
          1,
          1,
          1,
          1,
          1,
          1,
          1,
          1,
          1,
          1,
          1,
          1,
          1,
          1,
          1,
          1,
          1,
          1,
          1,
          1,
          1,
          1,
          1,
          1,
          1,
          1,
          1,
          1,
          1,
          1,
          1,
          1,
          1,
          1,
          1,
          1,
          1,
          1,
          1,
          1,
          1,
          1,
          1,
          1,
          1,
          1,
          1,
          1,
          1,
          1,
          1,
          1,
          1,
          1,
          1,
          1,
          1,
          1,
          1,
          1,
          1,
          1,
          1,
          1,
          1,
          1,
          1,
          1,
          1,
          1,
          1,
          1,
          1,
          1,
          1,
          1,
          1,
          1,
          1,
          1,
          1,
          1,
          1,
          1,
          1,
          1,
          1,
          1,
          1,
          1,
          1,
          1,
          1,
          1,
          1,
          1,
          1,
          1,
          1,
          1,
          1,
          1,
          1,
          1,
          1,
          1,
          1,
          1,
          1,
          1,
          1,
          1,
          1,
          1,
          1,
          1,
          1,
          1,
          1,
          1,
          1,
          1,
          1,
          1,
          1,
          1,
          1,
          1,
          1,
          1,
          1,
          1,
          1,
          1,
          1,
          1,
          1,
          1,
          1,
          1,
          1,
          1,
          1,
          1,
          1,
          1,
          1,
          1,
          1,
          1,
          1,
          1,
          1,
          1,
          1,
          1,
          1,
          1,
          1,
          1,
          1,
          1,
          1,
          1,
          1,
          1,
          1,
          1,
          1,
          1,
          1,
          1,
          1,
          1,
          1,
          1,
          1,
          1,
          1,
          1,
          1,
          1,
          1,
          1,
          1,
          1,
          1,
          1,
          1,
          1,
          1,
          1,
          1,
          1,
          1,
          1,
          1,
          1,
          1,
          1,
          1,
          1,
          1,
          1,
          1,
          1,
          1,
          1,
          1,
          1,
          1,
          1,
          1,
          1,
          1,
          1,
          1,
          1,
          1,
          1,
          1,
          1,
          1,
          1,
          1,
          1,
          1,
          1,
          1,
          1,
          1,
          1,
          1,
          1,
          1,
          1,
          1,
          1,
          1,
          1,
          1,
          1,
          1,
          1,
          1,
          1,
          1,
          1,
          1,
          1,
          1,
          1,
          1,
          1,
          1,
          1,
          1,
          1,
          1,
          1,
          1,
          1,
          1,
          1,
          1,
          1,
          1,
          1,
          1,
          1,
          1,
          1,
          1,
          1,
          1,
          1,
          1,
          1,
          1,
          1,
          1,
          1,
          1,
          1,
          1,
          1,
          1,
          1,
          1,
          1,
          1,
          1,
          1,
          1,
          1,
          1,
          1,
          1,
          1,
          1,
          1,
          1,
          1,
          1,
          1,
          1,
          1,
          1,
          1,
          1,
          1,
          1,
          1,
          1,
          1,
          1,
          1,
          1,
          1,
          1,
          1,
          1,
          1,
          1,
          1,
          1,
          1,
          1,
          1,
          1,
          1,
          1,
          1,
          1,
          1,
          1,
          1,
          1,
          1,
          1,
          1,
          1,
          1,
          1,
          1,
          1,
          1,
          1,
          1,
          1,
          1,
          1,
          1,
          1,
          1,
          1,
          1,
          1,
          1,
          1,
          1,
          1,
          1,
          1,
          1,
          1,
          1,
          1,
          1,
          1,
          1,
          1,
          1,
          1,
          1,
          1,
          1,
          1,
          1,
          1,
          1,
          1,
          1,
          1,
          1,
          1,
          1,
          1,
          1,
          1,
          1,
          1,
          1,
          1,
          1,
          1,
          1,
          1,
          1,
          1,
          1,
          1,
          1,
          1,
          1,
          1,
          1,
          1,
          1,
          1,
          1,
          1,
          1,
          1,
          1,
          1,
          1,
          1,
          1,
          1,
          1,
          1
         ],
         "yaxis": "y"
        }
       ],
       "layout": {
        "height": 300,
        "legend": {
         "tracegroupgap": 0
        },
        "margin": {
         "t": 60
        },
        "template": {
         "data": {
          "bar": [
           {
            "error_x": {
             "color": "#2a3f5f"
            },
            "error_y": {
             "color": "#2a3f5f"
            },
            "marker": {
             "line": {
              "color": "#E5ECF6",
              "width": 0.5
             },
             "pattern": {
              "fillmode": "overlay",
              "size": 10,
              "solidity": 0.2
             }
            },
            "type": "bar"
           }
          ],
          "barpolar": [
           {
            "marker": {
             "line": {
              "color": "#E5ECF6",
              "width": 0.5
             },
             "pattern": {
              "fillmode": "overlay",
              "size": 10,
              "solidity": 0.2
             }
            },
            "type": "barpolar"
           }
          ],
          "carpet": [
           {
            "aaxis": {
             "endlinecolor": "#2a3f5f",
             "gridcolor": "white",
             "linecolor": "white",
             "minorgridcolor": "white",
             "startlinecolor": "#2a3f5f"
            },
            "baxis": {
             "endlinecolor": "#2a3f5f",
             "gridcolor": "white",
             "linecolor": "white",
             "minorgridcolor": "white",
             "startlinecolor": "#2a3f5f"
            },
            "type": "carpet"
           }
          ],
          "choropleth": [
           {
            "colorbar": {
             "outlinewidth": 0,
             "ticks": ""
            },
            "type": "choropleth"
           }
          ],
          "contour": [
           {
            "colorbar": {
             "outlinewidth": 0,
             "ticks": ""
            },
            "colorscale": [
             [
              0,
              "#0d0887"
             ],
             [
              0.1111111111111111,
              "#46039f"
             ],
             [
              0.2222222222222222,
              "#7201a8"
             ],
             [
              0.3333333333333333,
              "#9c179e"
             ],
             [
              0.4444444444444444,
              "#bd3786"
             ],
             [
              0.5555555555555556,
              "#d8576b"
             ],
             [
              0.6666666666666666,
              "#ed7953"
             ],
             [
              0.7777777777777778,
              "#fb9f3a"
             ],
             [
              0.8888888888888888,
              "#fdca26"
             ],
             [
              1,
              "#f0f921"
             ]
            ],
            "type": "contour"
           }
          ],
          "contourcarpet": [
           {
            "colorbar": {
             "outlinewidth": 0,
             "ticks": ""
            },
            "type": "contourcarpet"
           }
          ],
          "heatmap": [
           {
            "colorbar": {
             "outlinewidth": 0,
             "ticks": ""
            },
            "colorscale": [
             [
              0,
              "#0d0887"
             ],
             [
              0.1111111111111111,
              "#46039f"
             ],
             [
              0.2222222222222222,
              "#7201a8"
             ],
             [
              0.3333333333333333,
              "#9c179e"
             ],
             [
              0.4444444444444444,
              "#bd3786"
             ],
             [
              0.5555555555555556,
              "#d8576b"
             ],
             [
              0.6666666666666666,
              "#ed7953"
             ],
             [
              0.7777777777777778,
              "#fb9f3a"
             ],
             [
              0.8888888888888888,
              "#fdca26"
             ],
             [
              1,
              "#f0f921"
             ]
            ],
            "type": "heatmap"
           }
          ],
          "heatmapgl": [
           {
            "colorbar": {
             "outlinewidth": 0,
             "ticks": ""
            },
            "colorscale": [
             [
              0,
              "#0d0887"
             ],
             [
              0.1111111111111111,
              "#46039f"
             ],
             [
              0.2222222222222222,
              "#7201a8"
             ],
             [
              0.3333333333333333,
              "#9c179e"
             ],
             [
              0.4444444444444444,
              "#bd3786"
             ],
             [
              0.5555555555555556,
              "#d8576b"
             ],
             [
              0.6666666666666666,
              "#ed7953"
             ],
             [
              0.7777777777777778,
              "#fb9f3a"
             ],
             [
              0.8888888888888888,
              "#fdca26"
             ],
             [
              1,
              "#f0f921"
             ]
            ],
            "type": "heatmapgl"
           }
          ],
          "histogram": [
           {
            "marker": {
             "pattern": {
              "fillmode": "overlay",
              "size": 10,
              "solidity": 0.2
             }
            },
            "type": "histogram"
           }
          ],
          "histogram2d": [
           {
            "colorbar": {
             "outlinewidth": 0,
             "ticks": ""
            },
            "colorscale": [
             [
              0,
              "#0d0887"
             ],
             [
              0.1111111111111111,
              "#46039f"
             ],
             [
              0.2222222222222222,
              "#7201a8"
             ],
             [
              0.3333333333333333,
              "#9c179e"
             ],
             [
              0.4444444444444444,
              "#bd3786"
             ],
             [
              0.5555555555555556,
              "#d8576b"
             ],
             [
              0.6666666666666666,
              "#ed7953"
             ],
             [
              0.7777777777777778,
              "#fb9f3a"
             ],
             [
              0.8888888888888888,
              "#fdca26"
             ],
             [
              1,
              "#f0f921"
             ]
            ],
            "type": "histogram2d"
           }
          ],
          "histogram2dcontour": [
           {
            "colorbar": {
             "outlinewidth": 0,
             "ticks": ""
            },
            "colorscale": [
             [
              0,
              "#0d0887"
             ],
             [
              0.1111111111111111,
              "#46039f"
             ],
             [
              0.2222222222222222,
              "#7201a8"
             ],
             [
              0.3333333333333333,
              "#9c179e"
             ],
             [
              0.4444444444444444,
              "#bd3786"
             ],
             [
              0.5555555555555556,
              "#d8576b"
             ],
             [
              0.6666666666666666,
              "#ed7953"
             ],
             [
              0.7777777777777778,
              "#fb9f3a"
             ],
             [
              0.8888888888888888,
              "#fdca26"
             ],
             [
              1,
              "#f0f921"
             ]
            ],
            "type": "histogram2dcontour"
           }
          ],
          "mesh3d": [
           {
            "colorbar": {
             "outlinewidth": 0,
             "ticks": ""
            },
            "type": "mesh3d"
           }
          ],
          "parcoords": [
           {
            "line": {
             "colorbar": {
              "outlinewidth": 0,
              "ticks": ""
             }
            },
            "type": "parcoords"
           }
          ],
          "pie": [
           {
            "automargin": true,
            "type": "pie"
           }
          ],
          "scatter": [
           {
            "marker": {
             "colorbar": {
              "outlinewidth": 0,
              "ticks": ""
             }
            },
            "type": "scatter"
           }
          ],
          "scatter3d": [
           {
            "line": {
             "colorbar": {
              "outlinewidth": 0,
              "ticks": ""
             }
            },
            "marker": {
             "colorbar": {
              "outlinewidth": 0,
              "ticks": ""
             }
            },
            "type": "scatter3d"
           }
          ],
          "scattercarpet": [
           {
            "marker": {
             "colorbar": {
              "outlinewidth": 0,
              "ticks": ""
             }
            },
            "type": "scattercarpet"
           }
          ],
          "scattergeo": [
           {
            "marker": {
             "colorbar": {
              "outlinewidth": 0,
              "ticks": ""
             }
            },
            "type": "scattergeo"
           }
          ],
          "scattergl": [
           {
            "marker": {
             "colorbar": {
              "outlinewidth": 0,
              "ticks": ""
             }
            },
            "type": "scattergl"
           }
          ],
          "scattermapbox": [
           {
            "marker": {
             "colorbar": {
              "outlinewidth": 0,
              "ticks": ""
             }
            },
            "type": "scattermapbox"
           }
          ],
          "scatterpolar": [
           {
            "marker": {
             "colorbar": {
              "outlinewidth": 0,
              "ticks": ""
             }
            },
            "type": "scatterpolar"
           }
          ],
          "scatterpolargl": [
           {
            "marker": {
             "colorbar": {
              "outlinewidth": 0,
              "ticks": ""
             }
            },
            "type": "scatterpolargl"
           }
          ],
          "scatterternary": [
           {
            "marker": {
             "colorbar": {
              "outlinewidth": 0,
              "ticks": ""
             }
            },
            "type": "scatterternary"
           }
          ],
          "surface": [
           {
            "colorbar": {
             "outlinewidth": 0,
             "ticks": ""
            },
            "colorscale": [
             [
              0,
              "#0d0887"
             ],
             [
              0.1111111111111111,
              "#46039f"
             ],
             [
              0.2222222222222222,
              "#7201a8"
             ],
             [
              0.3333333333333333,
              "#9c179e"
             ],
             [
              0.4444444444444444,
              "#bd3786"
             ],
             [
              0.5555555555555556,
              "#d8576b"
             ],
             [
              0.6666666666666666,
              "#ed7953"
             ],
             [
              0.7777777777777778,
              "#fb9f3a"
             ],
             [
              0.8888888888888888,
              "#fdca26"
             ],
             [
              1,
              "#f0f921"
             ]
            ],
            "type": "surface"
           }
          ],
          "table": [
           {
            "cells": {
             "fill": {
              "color": "#EBF0F8"
             },
             "line": {
              "color": "white"
             }
            },
            "header": {
             "fill": {
              "color": "#C8D4E3"
             },
             "line": {
              "color": "white"
             }
            },
            "type": "table"
           }
          ]
         },
         "layout": {
          "annotationdefaults": {
           "arrowcolor": "#2a3f5f",
           "arrowhead": 0,
           "arrowwidth": 1
          },
          "autotypenumbers": "strict",
          "coloraxis": {
           "colorbar": {
            "outlinewidth": 0,
            "ticks": ""
           }
          },
          "colorscale": {
           "diverging": [
            [
             0,
             "#8e0152"
            ],
            [
             0.1,
             "#c51b7d"
            ],
            [
             0.2,
             "#de77ae"
            ],
            [
             0.3,
             "#f1b6da"
            ],
            [
             0.4,
             "#fde0ef"
            ],
            [
             0.5,
             "#f7f7f7"
            ],
            [
             0.6,
             "#e6f5d0"
            ],
            [
             0.7,
             "#b8e186"
            ],
            [
             0.8,
             "#7fbc41"
            ],
            [
             0.9,
             "#4d9221"
            ],
            [
             1,
             "#276419"
            ]
           ],
           "sequential": [
            [
             0,
             "#0d0887"
            ],
            [
             0.1111111111111111,
             "#46039f"
            ],
            [
             0.2222222222222222,
             "#7201a8"
            ],
            [
             0.3333333333333333,
             "#9c179e"
            ],
            [
             0.4444444444444444,
             "#bd3786"
            ],
            [
             0.5555555555555556,
             "#d8576b"
            ],
            [
             0.6666666666666666,
             "#ed7953"
            ],
            [
             0.7777777777777778,
             "#fb9f3a"
            ],
            [
             0.8888888888888888,
             "#fdca26"
            ],
            [
             1,
             "#f0f921"
            ]
           ],
           "sequentialminus": [
            [
             0,
             "#0d0887"
            ],
            [
             0.1111111111111111,
             "#46039f"
            ],
            [
             0.2222222222222222,
             "#7201a8"
            ],
            [
             0.3333333333333333,
             "#9c179e"
            ],
            [
             0.4444444444444444,
             "#bd3786"
            ],
            [
             0.5555555555555556,
             "#d8576b"
            ],
            [
             0.6666666666666666,
             "#ed7953"
            ],
            [
             0.7777777777777778,
             "#fb9f3a"
            ],
            [
             0.8888888888888888,
             "#fdca26"
            ],
            [
             1,
             "#f0f921"
            ]
           ]
          },
          "colorway": [
           "#636efa",
           "#EF553B",
           "#00cc96",
           "#ab63fa",
           "#FFA15A",
           "#19d3f3",
           "#FF6692",
           "#B6E880",
           "#FF97FF",
           "#FECB52"
          ],
          "font": {
           "color": "#2a3f5f"
          },
          "geo": {
           "bgcolor": "white",
           "lakecolor": "white",
           "landcolor": "#E5ECF6",
           "showlakes": true,
           "showland": true,
           "subunitcolor": "white"
          },
          "hoverlabel": {
           "align": "left"
          },
          "hovermode": "closest",
          "mapbox": {
           "style": "light"
          },
          "paper_bgcolor": "white",
          "plot_bgcolor": "#E5ECF6",
          "polar": {
           "angularaxis": {
            "gridcolor": "white",
            "linecolor": "white",
            "ticks": ""
           },
           "bgcolor": "#E5ECF6",
           "radialaxis": {
            "gridcolor": "white",
            "linecolor": "white",
            "ticks": ""
           }
          },
          "scene": {
           "xaxis": {
            "backgroundcolor": "#E5ECF6",
            "gridcolor": "white",
            "gridwidth": 2,
            "linecolor": "white",
            "showbackground": true,
            "ticks": "",
            "zerolinecolor": "white"
           },
           "yaxis": {
            "backgroundcolor": "#E5ECF6",
            "gridcolor": "white",
            "gridwidth": 2,
            "linecolor": "white",
            "showbackground": true,
            "ticks": "",
            "zerolinecolor": "white"
           },
           "zaxis": {
            "backgroundcolor": "#E5ECF6",
            "gridcolor": "white",
            "gridwidth": 2,
            "linecolor": "white",
            "showbackground": true,
            "ticks": "",
            "zerolinecolor": "white"
           }
          },
          "shapedefaults": {
           "line": {
            "color": "#2a3f5f"
           }
          },
          "ternary": {
           "aaxis": {
            "gridcolor": "white",
            "linecolor": "white",
            "ticks": ""
           },
           "baxis": {
            "gridcolor": "white",
            "linecolor": "white",
            "ticks": ""
           },
           "bgcolor": "#E5ECF6",
           "caxis": {
            "gridcolor": "white",
            "linecolor": "white",
            "ticks": ""
           }
          },
          "title": {
           "x": 0.05
          },
          "xaxis": {
           "automargin": true,
           "gridcolor": "white",
           "linecolor": "white",
           "ticks": "",
           "title": {
            "standoff": 15
           },
           "zerolinecolor": "white",
           "zerolinewidth": 2
          },
          "yaxis": {
           "automargin": true,
           "gridcolor": "white",
           "linecolor": "white",
           "ticks": "",
           "title": {
            "standoff": 15
           },
           "zerolinecolor": "white",
           "zerolinewidth": 2
          }
         }
        },
        "width": 1500,
        "xaxis": {
         "anchor": "y",
         "domain": [
          0,
          1
         ],
         "title": {
          "text": "movies"
         }
        },
        "yaxis": {
         "anchor": "x",
         "domain": [
          0,
          1
         ],
         "title": {
          "text": "number of shared actors"
         }
        }
       }
      },
      "text/html": [
       "<div>                            <div id=\"7884a6f1-cd11-4dc7-89db-c259a9169e2c\" class=\"plotly-graph-div\" style=\"height:300px; width:1500px;\"></div>            <script type=\"text/javascript\">                require([\"plotly\"], function(Plotly) {                    window.PLOTLYENV=window.PLOTLYENV || {};                                    if (document.getElementById(\"7884a6f1-cd11-4dc7-89db-c259a9169e2c\")) {                    Plotly.newPlot(                        \"7884a6f1-cd11-4dc7-89db-c259a9169e2c\",                        [{\"hovertemplate\":\"movies=%{x}<br>number of shared actors=%{y}<extra></extra>\",\"legendgroup\":\"\",\"marker\":{\"color\":\"#636efa\",\"symbol\":\"circle\"},\"mode\":\"markers\",\"name\":\"\",\"orientation\":\"v\",\"showlegend\":false,\"x\":[\"Let the Bullets Fly\",\"Gone with the Bullets\",\"The Sun Also Rises\",\"Hidden Man\",\"The Founding of a Republic\",\"If You Are the One 2\",\"Tales of Chinese Filmmakers\",\"Beginning of the Great Revival\",\"I Love My Family\",\"Assembly\",\"The Robbers\",\"The Door\",\"A Native of Beijing in New York\",\"In the Heat of the Sun\",\"Stories of an Editorial Board\",\"Devils on the Doorstep\",\"Getting Home\",\"My People, My Country\",\"I Am Not Madame Bovary\",\"World Film Report\",\"Be There or Be Square\",\"The Dream Factory\",\"Gimme Kudos\",\"Baba\",\"Nature Is Speaking\",\"Cook Up a Storm\",\"Chinese Zodiac\",\"If You Are the One\",\"Yong shi wo ai\",\"Showtime\",\"Personal Tailor\",\"Phanta City\",\"Da wan\",\"Cell Phone\",\"The Banquet\",\"A Date with Luyu\",\"Curiosity Kills the Cat\",\"A World Without Thieves\",\"Cell Phone 2\",\"To Live\",\"Tragic Hero\",\"I'm Looking Forward to Being Loved\",\"Flying Swords of Dragon Gate\",\"Sui Tang Yan Yi\",\"Love on Credit\",\"Rich and Famous\",\"From Vegas to Macau III\",\"Love is Not Blind\",\"Cala, My Dog!\",\"From Vegas to Macau II\",\"Lost in 1949\",\"Infernal Affairs II\",\"The Last Tycoon\",\"The Postmodern Life of My Aunt\",\"Sigh\",\"The Return of the Condor Heroes\",\"Da Sa Ba\",\"Curse of the Golden Flower\",\"The Morning After\",\"Crouching Tiger, Hidden Dragon\",\"Crossed Lines\",\"Keep Cool\",\"The Missing Gun\",\"Sorry Baby\",\"Jing zhuong zhui nu zi zhi er\",\"Confucius\",\"Jin hun feng yu qing\",\"Ever Night\",\"The Lost Bladesman\",\"Father and Hero\",\"The Yangs' Saga\",\"Love Story in Shanghai\",\"Cairo Declaration\",\"Detective Dee: The Mystery of the Phantom Flame\",\"Qin song\",\"The Battle Among the Clans\",\"Youth\",\"Yi ching chun dik ming yi\",\"Back to 1942\",\"My Beloved Bodyguard\",\"Young Detective Dee: Rise of the Sea Dragon\",\"Ash Is Purest White\",\"As the Light Goes Out\",\"Hunting\",\"Hard Boiled\",\"The Assassins\",\"Wu yue huai hua xiang\",\"Xi Feng De Hua (Whisper in the Wind)\",\"Now You See It, Now You Don't\",\"Yi di ji mao\",\"All About Ah-Long\",\"Police Cadet II\",\"Mulan: Rise of a Warrior\",\"The Curse of Turandot\",\"Happy Hotel\",\"Bodyguards and Assassins\",\"Born Coward\",\"Very Kidnappers\",\"Voice\",\"Bends\",\"Peace Hotel\",\"1911\",\"Waiting Alone\",\"War of Desire\",\"Vacation of Love\",\"Swordsmen of the Passes\",\"Full Circle\",\"Warriors of Heaven and Earth\",\"Guardian of the Palace\",\"Baober in Love\",\"Only You\",\"Song of Youth\",\"The Assassin\",\"Simple Happiness: Xiao Xing Fu\",\"Snow in the Wind\",\"Siu mo kong wu\",\"Snow Flower and the Secret Fan\",\"Snow Dance\",\"Smiling Bracelet\",\"Smile in Spring\",\"Siu sang mung ging wan\",\"Si qian jin\",\"The 72nd Annual Academy Awards\",\"Song of the Assassins\",\"Steel Meets Fire\",\"Sui yue\",\"Super Boy\",\"Sword Dynasty\",\"Sword Snow Stride\",\"T.R.Y.\",\"Temporary Family\",\"Suffocation\",\"The 11th China Movie Awards\",\"Stranglehold\",\"StarCraft\",\"Songs of the Youth 1969\",\"Star Wars: Go Rogue\",\"The 601st Phone Call\",\"Spiritual Love\",\"Spicy Love Soup\",\"Speed Angels\",\"Special Collector's Edition\",\"The 73rd Annual Academy Awards\",\"The Adventures of Panda Warrior\",\"The Advisors Alliance\",\"Sunrise, Sunset\",\"Sha Hai Lao Bing\",\"Shuo huang de nu ren\",\"Rescue the Hostages\",\"Qun ying luan wu\",\"Red Cliff\",\"Red Cliff II\",\"Red River Valley\",\"Red Snow\",\"Red Sorghum\",\"Remainder\",\"Reservoir Dogs\",\"Rogue One: A Star Wars Story\",\"Rest on Your Shoulder\",\"Return of the Lucky Stars\",\"Reunion: The Sound of the Providence\",\"Revival\",\"Rexue zhonghun zhi duxing shiwei\",\"Rhapsody of Spring\",\"Riding Alone for Thousands of Miles\",\"Qing Chun Si Shi\",\"Qianli lei sheng wanli shan\",\"Qian wang qing ren\",\"Qi chuan xu xu\",\"Peking Duck Restaurant\",\"Peony Pavilion\",\"Phantom of the Theatre\",\"Pirates of the Caribbean: At World's End\",\"Pk.com.cn\",\"Planet Voice\",\"Playboy Cops\",\"Po ju 1950\",\"Polar Rescue\",\"Police Cadet III\",\"Prison on Fire\",\"Prison on Fire II\",\"Project A 2\",\"Project Gutenberg\",\"Psych Hunter\",\"Roast\",\"Roots and Branches\",\"Shower\",\"She Shoots Straight\",\"Shan de nu er\",\"Shanghai\",\"Shanghai Beach\",\"Shanghai Blue\",\"Shanghai Red\",\"Shao nian da qin chai\",\"Shaolin\",\"Shen hua\",\"Rose Rose I Love You\",\"Shen tan gan shi lu\",\"Sheng di er ji na\",\"Sheng xia he ta de wei hun fu\",\"Shi Yan Jin Sheng\",\"Shi Yan Juan Tian Ya\",\"Shi ba\",\"Shock Wave\",\"Shadow\",\"The Big Lie Bang\",\"Sex and the Beauties\",\"Seven Swords\",\"Royal Nirvana\",\"Ru ce\",\"Running Man\",\"Ruyi's Royal Love in the Palace\",\"R\\u00e9my Julienne: 50 ans de cascades\",\"Saat sau qi shi er siu si\",\"Sacrifice\",\"San jaat si hing\",\"San ren shi jie\",\"Savage\",\"Saving General Yang\",\"Saviour of the Soul\",\"Schemes in Antiques\",\"Secrets Within: Inside Look at 'Curse of the Golden Flower'\",\"See You Again\",\"The Battle at Lake Changjin\",\"\\\"Lotus Lantern\\\"\",\"The Biography of Sun Tzu\",\"Trivial Matters\",\"Tiny Times 2.0\",\"To Fly with You\",\"To Kill a Watermelon\",\"Tou tai ren\",\"Treasure Hunt\",\"Triads: The Inside Story\",\"Triumphantly Returning at Midnight\",\"True Legend\",\"VeggieTales FitnessHof\",\"True and False Monkey King\",\"Truth or Dare\",\"Two Tigers\",\"U Can You BB\",\"Underground 2: Islands Continent\",\"Unexpected Passion\",\"Up Idol\",\"Tiger on Beat\",\"Tie xue qing chun\",\"Tie ren\",\"Tian tai de yue guang\",\"The Turbulent Decade\",\"The Vanished Woman\",\"The Viral Factor\",\"The Warring States\",\"The Warrior and the Wolf\",\"The Wasted Times\",\"The Way of the Bug\",\"The Wild Goose Lake\",\"The Wind Blows from Longxi\",\"The World of Chow Yun-Fan\",\"The Yinyang Master\",\"This Is Me\",\"Three Old Boys\",\"Tian kong xia de yuan fen\",\"Tian sheng chang ge\",\"Vancouver\",\"Wait 'Til You're Older\",\"The Blossom of Roses\",\"You Are My Sisters\",\"Yang Lan One on One\",\"Yang Married\",\"Yang Shan Zhou\",\"Yee but yung ching\",\"Yi lu shang you ni\",\"Yin hun nan nu\",\"Ying jia\",\"You cai hua xiang\",\"Warriors of Future\",\"Yu wangshi ganbei\",\"Zai jian ying xiong\",\"Zhen guan zhi zhi\",\"Zhi Ming Yuan Wang\",\"Zhongkui: Snow Girl and the Dark Crystal\",\"Zou dao di\",\"Zou xi kou\",\"Xin Su xiao mei san nan xin lang\",\"Xiao ao jiang hu\",\"Xiao Qing Ren\",\"Wrath of Silence\",\"Water Gate Bridge\",\"Welcom to the Game\",\"Where the Action Is\",\"White Vengeance\",\"Who Do You Think You're Fooling?\",\"Who's the Woman, Who's the Man\",\"Why Me?\",\"Wild Desert\",\"Wild Search\",\"Wild Swords\",\"Witch from Nepal\",\"Woman-Taxi-Woman\",\"Women\",\"Women in Shanghai\",\"World Second\",\"The Troubleshooters\",\"The Treasure Hunter\",\"The Tonight Show with Jay Leno\",\"The Invaluable Treasure\",\"The Greatest Lover\",\"The Guilty Ones\",\"The Hand\",\"Painted Skin: The Resurrection\",\"The Head Hunter\",\"The Hero of Swallow\",\"The Imperial Age\",\"The Killer\",\"The Taking of Tiger Mountain\",\"The Knot\",\"The Last Empress\",\"The Last Eunuch\",\"The Legend Hunters\",\"The Legend of Emperor Yan\",\"The Legend of Master So\",\"The Legend of the Condor Heroes\",\"The Great Revival\",\"The Game of Killing\",\"The Fun, the Luck & the Tycoon\",\"The Four\",\"The Bund\",\"The Children of Huang Shi\",\"The Composer\",\"The Corruptor\",\"The Curse of Chopsticks\",\"The Demons Strike in Baiyu Town\",\"The Diary of a Big Man\",\"The Duke of Mount Deer\",\"The Eagle Shooting Heroes\",\"The Eight Hundred\",\"The Eighth Happiness\",\"The Empty Mirror\",\"The Executor\",\"The Final Master\",\"The Floating Shadow\",\"The Line\",\"The Locked Door\",\"The Long Night\",\"The Pretending Lovers\",\"The Radio Tycoon\",\"The Replacement Killers\",\"The Resistance\",\"The Return of the God of Gamblers\",\"The Romancing Star\",\"The Scientist Jiang Zhuying\",\"The Seventh Curse\",\"The Soong Sisters\",\"The Sorcerer and the White Snake\",\"The Spring Festival\",\"The Star and the Sea\",\"The Stool Pigeon\",\"The Stories: The Making of 'Rogue One: A Star Wars Story'\",\"The Story of Woo Viet\",\"The Story of a Noble Family\",\"The Queens\",\"The Postman Strikes Back\",\"The Lost Tomb 2\",\"The One Man Olympics\",\"The Lunatics\",\"The Man from Macau\",\"The Marriage Certificate\",\"The Message\",\"The Missed Date\",\"The Monkey King 3D: Uproar in Heaven\",\"The Monkey King Havoc in Heavens Palace\",\"The Monkey King: The Legend Begins\",\"The Music Box\",\"The Mysterious Family\",\"The Myth\",\"The Nation's Greatest Treasures\",\"The New Year's Eve of Old Lee\",\"The Night Rider\",\"The Occupant\",\"Palace 2\",\"Monster Hunt\",\"Painted Skin\",\"Days of Being Wild\",\"Crying Out in Love\",\"Da Qi Ceng Xiao Shi\",\"Da lu\",\"Da sheng hu han ni hui lai\",\"Da zhai men\",\"Dad's Cabin (2016)\",\"Day Day Up\",\"Deadly Melody\",\"Cross Fire\",\"Demi-Gods and Semi-Devils\",\"Desert Sea\",\"Desert Warrior\",\"Desires of the Heart\",\"Detection of Di Renjie\",\"Detective Dee: Solitary Skies Killer\",\"Detective Dee: The Four Heavenly Kings\",\"Crossroad Bistro\",\"Crazy Hong Kong\",\"Original Sin\",\"Codename Cougar\",\"Cinema of Vengeance\",\"Circulation\",\"City War\",\"City Warriors\",\"City on Fire\",\"Clay Fear\",\"Code of Honour\",\"Cold War 2\",\"Crash Landing\",\"Cold War III\",\"Comic Star\",\"Confession of an Adult Filmmaker\",\"Conned Once\",\"Control\",\"Cop Shop Babes\",\"Court Battle\",\"Detective Ke Chen\",\"Di Renjie: The Lost Gold\",\"Diablo\",\"Flaming Brothers\",\"Fan fu da yuan\",\"Farewell My Concubine\",\"Fearless Hero\",\"Fengshen Trilogy\",\"Festival de cine de San Sebasti\\u00e1n 2016 - Gala de clausura\",\"Firestorm\",\"Fit Lover\",\"Flash Over\",\"Divorce Wars\",\"Fleet of Time\",\"Flowers of Shanghai\",\"Fo fung wong\",\"Forbidden City Cop\",\"Fortress Besieged\",\"Four Loves\",\"Fractured Follies\",\"Everybody's Fine\",\"Eternal Beloved\",\"Eros\",\"Entertainment Tonight\",\"Don Quixote\",\"Dong bian ri chu xi bian yu\",\"Double World\",\"Dragon\",\"Dragonball Evolution\",\"Dream Lovers\",\"Duckweed\",\"Dynasty Warriors\",\"D\\u00edas de cine\",\"East Palace, West Palace\",\"Eastern Heroes: The Video Magazine - Volume 2\",\"Eighteen Springs\",\"Empires of the Deep\",\"Endless Loop\",\"Endless Love\",\"Ci wei\",\"Ci Ye\",\"Chrysanthemum to the Beast\",\"Angry Kid\",\"Ai yu kuang chao\",\"All Quiet in Beiping\",\"All the Invisible Children\",\"All's Well, Ends Well 2011\",\"American Masters\",\"An Autumn's Tale\",\"Angels and Devils\",\"Anna and the King\",\"Bad Daughter\",\"Arc Peace\",\"Armour of God\",\"Arsenal Military Academy\",\"Ashes of Time\",\"Asura\",\"Asura Bride\",\"Auntie Duohe\",\"Aftershock\",\"Advance Wave Upon Wave\",\"A Woman for Two\",\"A White Horse Named Feifei\",\"1921\",\"2000 Blockbuster Entertainment Awards\",\"2007 AZN Asian Excellence Awards\",\"2046\",\"749 Ju\",\"A Beautiful New World\",\"A Better Tomorrow\",\"A Better Tomorrow II\",\"A Better Tomorrow III: Love and Death in Saigon\",\"A City Called Macau\",\"A Dream in Red Mansions\",\"A Hearty Response\",\"A Mysterious Robber\",\"A Touch of Sin\",\"A West Lake Moment\",\"Bad Daddy\",\"Bad Guys Always Die\",\"Chow Yun-Fat Goes Hollywood\",\"Cherries\",\"Candle in the Tomb: The Lost Caverns\",\"Cannes Film Festival\",\"Center Stage\",\"Chang hen ge\",\"Chao Shi Kong Luo Man Shi\",\"Chao yue\",\"Chasing Dream\",\"Cherry Blossoms\",\"Balzac and the Little Chinese Seamstress\",\"Chicken Poets\",\"Chin wong kwun ying wui\",\"China White\",\"Chinese Doctors\",\"Chinese peacekeeping police\",\"Chong tian fei bao\",\"Chou tan qi ge ban\",\"Camp Rock 2: The Final Jam\",\"C'est la vie, mon ch\\u00e9ri\",\"Burning Ice\",\"Bulletproof Monk\",\"Ban Sheng Yuan\",\"Ban ye\",\"Battle of Memories\",\"Beast Stalker\",\"Beautiful Accident\",\"Bed for Day, Bed for Night\",\"Beijing Love Story\",\"Ben teng nian dai\",\"Black Coal, Thin Ice\",\"Black Snow\",\"Blood Money\",\"Bloopers of the Caribbean\",\"Break Through the Darkness\",\"Breaking the Waves\",\"Bull Brothers\",\"From the (Under)Ground Up: The Making of 'The Corruptor'\",\"Fu xing lin men\",\"Fu zi hun shi\",\"Love in Space\",\"Love Motel\",\"Love Only\",\"Love Shock\",\"Love Unto Waste\",\"Love and Destiny\",\"Love at First Sight\",\"Love in Disguise\",\"Love in a Fallen City\",\"Marry to the West\",\"Love on the Cloud\",\"Luxury Era\",\"Ma lu qi shi\",\"Magical Hands\",\"Mai Ban Zhi Jia\",\"Mang dao\",\"Mao's Last Dancer\",\"Love Generation Hong Kong\",\"Love After Love\",\"Lotus Lantern\",\"Lost, Found\",\"Lethal Hostage\",\"Letter from an Unknown Woman\",\"Liberation\",\"Licence to Steal\",\"Little Q\",\"Lonely Battle\",\"Longmen Express\",\"Looking Up\",\"Looking for Jackie\",\"Lord of East China Sea\",\"Lord of East China Sea II\",\"Lord of Shanghai\",\"Lord of Shanghai II\",\"Lost Romance\",\"Lost in Panic Room\",\"Marriage Cuisine\",\"Massage Girls\",\"Let the Wind Carry Me\",\"Nu er dang zi qiang\",\"My Will, I Will\",\"National Anthem\",\"Naughty Boys\",\"Never Stop\",\"New York, I Love You\",\"No More Love No More Death\",\"No Retreat\",\"Nulle part ailleurs. 1\\u00e8re partie\",\"Master of My Own\",\"Ocean Flame\",\"Office\",\"Once a Thief\",\"One Foot Off the Ground\",\"One Hundred\",\"One Night Surprise\",\"Only Cloud Knows\",\"My Rival is Son-in-law, My Lover is Son-in-law\",\"My People, My Homeland\",\"My Father and I\",\"My Ex-Wife's Wedding\",\"Meng nu da zei sha zhen tan\",\"Meng's Palace\",\"Metallic Attraction: Kungfu Cyborg\",\"Mighty Baby\",\"Min Gan Shi Jian\",\"Minning Town\",\"Miss O\",\"Mnet Asian Music Awards\",\"Mojin: The Lost Legend\",\"Mong chung yan\",\"100 Ways to Murder Your Wife\",\"Mr. Six\",\"Mu Gui Ying gua shuai\",\"Murder at Honeymoon Hotel\",\"My American Grandson\",\"Let's Get Married\",\"Legend of the Naga Pearls\",\"Full Contact\",\"Hard Boiled Killers\",\"Gu Meng\",\"Gu dong ju zhong ju zhi l\\u00fce bao qing dan\",\"Gu huo da lu shi\",\"Guilty of Mind\",\"HBO First Look\",\"Hai ma ge wu ting\",\"Happiness Me Too\",\"Harpoon\",\"Hot Girl\",\"He Ain't Heavy... He's My Father\",\"He's a Woman, She's a Man\",\"Hei huo\",\"Hero Dog 2\",\"Hibiscus Town\",\"Hidden Energy\",\"Hong Kong 1941\",\"Green Tea\",\"Green Hat\",\"Golden Chicken\",\"Goddesses in the Flames of War\",\"Ga bin\",\"Game Over\",\"Gao xing\",\"Gary Unmarried\",\"Ge chuang you yan\",\"Genghis Khan\",\"Gentle Bullet\",\"Gigolo and Whore\",\"Girl of the Times\",\"Girls Without Tomorrow\",\"Give Love\",\"God of Gamblers\",\"God of Gamblers 3: The Early Stage\",\"God of Gamblers II\",\"God of War Zhao Yun\",\"Hong Kong wun hei see\",\"Hsue-shen Tsien\",\"Legend of Heavenly Tear: Phoenix Warriors\",\"Kung Fu Yoga\",\"Kain's Quest\",\"Keung yan\",\"Knock Knock\",\"Kung Fu Cult Master\",\"Kung Fu Girls\",\"Kung Fu Hustle\",\"Kung Fu Jungle\",\"La Brassiere\",\"Hu die de wei xiao\",\"Lai dou lai le\",\"Lan Yu\",\"Lao jia xie pai gu ye zi\",\"Last Affair\",\"Lau man dai hung\",\"Le palanquin des larmes\",\"Lee's Adventure\",\"Jue zhan zhi hou\",\"Judge of Song Dynasty\",\"Jia you jiu feng\",\"Jia he wan shi xing zhi shuang xi lin men\",\"Hu xiao cangqiong\",\"Hua hun\",\"Huang he yao\",\"Hui Lang Ting\",\"Huo guo ying xiong\",\"I Dedicate My Youth to You\",\"Ice Fantasy\",\"In the Silence\",\"Infernal Affairs III\",\"Inseparable\",\"Insisrence\",\"Intimates\",\"Itchy Heart\",\"Jasmine Flower\",\"Ji xing gao zhao\",\"\\u00d4sama no buranchi\"],\"xaxis\":\"x\",\"y\":[34,10,9,8,8,6,5,5,5,5,5,4,4,4,4,4,4,3,3,3,3,3,3,3,3,3,3,3,3,3,3,3,3,3,3,3,3,3,2,2,2,2,2,2,2,2,2,2,2,2,2,2,2,2,2,2,2,2,2,2,2,2,2,2,2,2,2,2,2,2,2,2,2,2,2,2,2,2,2,2,2,2,2,2,2,2,2,2,2,2,2,2,2,2,2,2,2,2,2,2,2,2,2,2,2,2,2,2,2,2,2,1,1,1,1,1,1,1,1,1,1,1,1,1,1,1,1,1,1,1,1,1,1,1,1,1,1,1,1,1,1,1,1,1,1,1,1,1,1,1,1,1,1,1,1,1,1,1,1,1,1,1,1,1,1,1,1,1,1,1,1,1,1,1,1,1,1,1,1,1,1,1,1,1,1,1,1,1,1,1,1,1,1,1,1,1,1,1,1,1,1,1,1,1,1,1,1,1,1,1,1,1,1,1,1,1,1,1,1,1,1,1,1,1,1,1,1,1,1,1,1,1,1,1,1,1,1,1,1,1,1,1,1,1,1,1,1,1,1,1,1,1,1,1,1,1,1,1,1,1,1,1,1,1,1,1,1,1,1,1,1,1,1,1,1,1,1,1,1,1,1,1,1,1,1,1,1,1,1,1,1,1,1,1,1,1,1,1,1,1,1,1,1,1,1,1,1,1,1,1,1,1,1,1,1,1,1,1,1,1,1,1,1,1,1,1,1,1,1,1,1,1,1,1,1,1,1,1,1,1,1,1,1,1,1,1,1,1,1,1,1,1,1,1,1,1,1,1,1,1,1,1,1,1,1,1,1,1,1,1,1,1,1,1,1,1,1,1,1,1,1,1,1,1,1,1,1,1,1,1,1,1,1,1,1,1,1,1,1,1,1,1,1,1,1,1,1,1,1,1,1,1,1,1,1,1,1,1,1,1,1,1,1,1,1,1,1,1,1,1,1,1,1,1,1,1,1,1,1,1,1,1,1,1,1,1,1,1,1,1,1,1,1,1,1,1,1,1,1,1,1,1,1,1,1,1,1,1,1,1,1,1,1,1,1,1,1,1,1,1,1,1,1,1,1,1,1,1,1,1,1,1,1,1,1,1,1,1,1,1,1,1,1,1,1,1,1,1,1,1,1,1,1,1,1,1,1,1,1,1,1,1,1,1,1,1,1,1,1,1,1,1,1,1,1,1,1,1,1,1,1,1,1,1,1,1,1,1,1,1,1,1,1,1,1,1,1,1,1,1,1,1,1,1,1,1,1,1,1,1,1,1,1,1,1,1,1,1,1,1,1,1,1,1,1,1,1,1,1,1,1,1,1,1,1,1,1,1,1,1,1,1,1,1,1,1,1,1,1,1,1,1,1,1,1,1,1,1,1,1,1,1,1,1,1,1,1,1,1,1,1,1,1,1,1,1,1,1,1,1,1,1,1,1,1,1,1,1,1,1,1,1,1,1,1,1,1,1,1,1,1,1,1,1,1,1,1,1,1,1,1,1,1,1,1,1,1,1,1,1,1,1,1,1,1,1,1,1,1,1,1,1],\"yaxis\":\"y\",\"type\":\"scatter\"}],                        {\"template\":{\"data\":{\"bar\":[{\"error_x\":{\"color\":\"#2a3f5f\"},\"error_y\":{\"color\":\"#2a3f5f\"},\"marker\":{\"line\":{\"color\":\"#E5ECF6\",\"width\":0.5},\"pattern\":{\"fillmode\":\"overlay\",\"size\":10,\"solidity\":0.2}},\"type\":\"bar\"}],\"barpolar\":[{\"marker\":{\"line\":{\"color\":\"#E5ECF6\",\"width\":0.5},\"pattern\":{\"fillmode\":\"overlay\",\"size\":10,\"solidity\":0.2}},\"type\":\"barpolar\"}],\"carpet\":[{\"aaxis\":{\"endlinecolor\":\"#2a3f5f\",\"gridcolor\":\"white\",\"linecolor\":\"white\",\"minorgridcolor\":\"white\",\"startlinecolor\":\"#2a3f5f\"},\"baxis\":{\"endlinecolor\":\"#2a3f5f\",\"gridcolor\":\"white\",\"linecolor\":\"white\",\"minorgridcolor\":\"white\",\"startlinecolor\":\"#2a3f5f\"},\"type\":\"carpet\"}],\"choropleth\":[{\"colorbar\":{\"outlinewidth\":0,\"ticks\":\"\"},\"type\":\"choropleth\"}],\"contour\":[{\"colorbar\":{\"outlinewidth\":0,\"ticks\":\"\"},\"colorscale\":[[0.0,\"#0d0887\"],[0.1111111111111111,\"#46039f\"],[0.2222222222222222,\"#7201a8\"],[0.3333333333333333,\"#9c179e\"],[0.4444444444444444,\"#bd3786\"],[0.5555555555555556,\"#d8576b\"],[0.6666666666666666,\"#ed7953\"],[0.7777777777777778,\"#fb9f3a\"],[0.8888888888888888,\"#fdca26\"],[1.0,\"#f0f921\"]],\"type\":\"contour\"}],\"contourcarpet\":[{\"colorbar\":{\"outlinewidth\":0,\"ticks\":\"\"},\"type\":\"contourcarpet\"}],\"heatmap\":[{\"colorbar\":{\"outlinewidth\":0,\"ticks\":\"\"},\"colorscale\":[[0.0,\"#0d0887\"],[0.1111111111111111,\"#46039f\"],[0.2222222222222222,\"#7201a8\"],[0.3333333333333333,\"#9c179e\"],[0.4444444444444444,\"#bd3786\"],[0.5555555555555556,\"#d8576b\"],[0.6666666666666666,\"#ed7953\"],[0.7777777777777778,\"#fb9f3a\"],[0.8888888888888888,\"#fdca26\"],[1.0,\"#f0f921\"]],\"type\":\"heatmap\"}],\"heatmapgl\":[{\"colorbar\":{\"outlinewidth\":0,\"ticks\":\"\"},\"colorscale\":[[0.0,\"#0d0887\"],[0.1111111111111111,\"#46039f\"],[0.2222222222222222,\"#7201a8\"],[0.3333333333333333,\"#9c179e\"],[0.4444444444444444,\"#bd3786\"],[0.5555555555555556,\"#d8576b\"],[0.6666666666666666,\"#ed7953\"],[0.7777777777777778,\"#fb9f3a\"],[0.8888888888888888,\"#fdca26\"],[1.0,\"#f0f921\"]],\"type\":\"heatmapgl\"}],\"histogram\":[{\"marker\":{\"pattern\":{\"fillmode\":\"overlay\",\"size\":10,\"solidity\":0.2}},\"type\":\"histogram\"}],\"histogram2d\":[{\"colorbar\":{\"outlinewidth\":0,\"ticks\":\"\"},\"colorscale\":[[0.0,\"#0d0887\"],[0.1111111111111111,\"#46039f\"],[0.2222222222222222,\"#7201a8\"],[0.3333333333333333,\"#9c179e\"],[0.4444444444444444,\"#bd3786\"],[0.5555555555555556,\"#d8576b\"],[0.6666666666666666,\"#ed7953\"],[0.7777777777777778,\"#fb9f3a\"],[0.8888888888888888,\"#fdca26\"],[1.0,\"#f0f921\"]],\"type\":\"histogram2d\"}],\"histogram2dcontour\":[{\"colorbar\":{\"outlinewidth\":0,\"ticks\":\"\"},\"colorscale\":[[0.0,\"#0d0887\"],[0.1111111111111111,\"#46039f\"],[0.2222222222222222,\"#7201a8\"],[0.3333333333333333,\"#9c179e\"],[0.4444444444444444,\"#bd3786\"],[0.5555555555555556,\"#d8576b\"],[0.6666666666666666,\"#ed7953\"],[0.7777777777777778,\"#fb9f3a\"],[0.8888888888888888,\"#fdca26\"],[1.0,\"#f0f921\"]],\"type\":\"histogram2dcontour\"}],\"mesh3d\":[{\"colorbar\":{\"outlinewidth\":0,\"ticks\":\"\"},\"type\":\"mesh3d\"}],\"parcoords\":[{\"line\":{\"colorbar\":{\"outlinewidth\":0,\"ticks\":\"\"}},\"type\":\"parcoords\"}],\"pie\":[{\"automargin\":true,\"type\":\"pie\"}],\"scatter\":[{\"marker\":{\"colorbar\":{\"outlinewidth\":0,\"ticks\":\"\"}},\"type\":\"scatter\"}],\"scatter3d\":[{\"line\":{\"colorbar\":{\"outlinewidth\":0,\"ticks\":\"\"}},\"marker\":{\"colorbar\":{\"outlinewidth\":0,\"ticks\":\"\"}},\"type\":\"scatter3d\"}],\"scattercarpet\":[{\"marker\":{\"colorbar\":{\"outlinewidth\":0,\"ticks\":\"\"}},\"type\":\"scattercarpet\"}],\"scattergeo\":[{\"marker\":{\"colorbar\":{\"outlinewidth\":0,\"ticks\":\"\"}},\"type\":\"scattergeo\"}],\"scattergl\":[{\"marker\":{\"colorbar\":{\"outlinewidth\":0,\"ticks\":\"\"}},\"type\":\"scattergl\"}],\"scattermapbox\":[{\"marker\":{\"colorbar\":{\"outlinewidth\":0,\"ticks\":\"\"}},\"type\":\"scattermapbox\"}],\"scatterpolar\":[{\"marker\":{\"colorbar\":{\"outlinewidth\":0,\"ticks\":\"\"}},\"type\":\"scatterpolar\"}],\"scatterpolargl\":[{\"marker\":{\"colorbar\":{\"outlinewidth\":0,\"ticks\":\"\"}},\"type\":\"scatterpolargl\"}],\"scatterternary\":[{\"marker\":{\"colorbar\":{\"outlinewidth\":0,\"ticks\":\"\"}},\"type\":\"scatterternary\"}],\"surface\":[{\"colorbar\":{\"outlinewidth\":0,\"ticks\":\"\"},\"colorscale\":[[0.0,\"#0d0887\"],[0.1111111111111111,\"#46039f\"],[0.2222222222222222,\"#7201a8\"],[0.3333333333333333,\"#9c179e\"],[0.4444444444444444,\"#bd3786\"],[0.5555555555555556,\"#d8576b\"],[0.6666666666666666,\"#ed7953\"],[0.7777777777777778,\"#fb9f3a\"],[0.8888888888888888,\"#fdca26\"],[1.0,\"#f0f921\"]],\"type\":\"surface\"}],\"table\":[{\"cells\":{\"fill\":{\"color\":\"#EBF0F8\"},\"line\":{\"color\":\"white\"}},\"header\":{\"fill\":{\"color\":\"#C8D4E3\"},\"line\":{\"color\":\"white\"}},\"type\":\"table\"}]},\"layout\":{\"annotationdefaults\":{\"arrowcolor\":\"#2a3f5f\",\"arrowhead\":0,\"arrowwidth\":1},\"autotypenumbers\":\"strict\",\"coloraxis\":{\"colorbar\":{\"outlinewidth\":0,\"ticks\":\"\"}},\"colorscale\":{\"diverging\":[[0,\"#8e0152\"],[0.1,\"#c51b7d\"],[0.2,\"#de77ae\"],[0.3,\"#f1b6da\"],[0.4,\"#fde0ef\"],[0.5,\"#f7f7f7\"],[0.6,\"#e6f5d0\"],[0.7,\"#b8e186\"],[0.8,\"#7fbc41\"],[0.9,\"#4d9221\"],[1,\"#276419\"]],\"sequential\":[[0.0,\"#0d0887\"],[0.1111111111111111,\"#46039f\"],[0.2222222222222222,\"#7201a8\"],[0.3333333333333333,\"#9c179e\"],[0.4444444444444444,\"#bd3786\"],[0.5555555555555556,\"#d8576b\"],[0.6666666666666666,\"#ed7953\"],[0.7777777777777778,\"#fb9f3a\"],[0.8888888888888888,\"#fdca26\"],[1.0,\"#f0f921\"]],\"sequentialminus\":[[0.0,\"#0d0887\"],[0.1111111111111111,\"#46039f\"],[0.2222222222222222,\"#7201a8\"],[0.3333333333333333,\"#9c179e\"],[0.4444444444444444,\"#bd3786\"],[0.5555555555555556,\"#d8576b\"],[0.6666666666666666,\"#ed7953\"],[0.7777777777777778,\"#fb9f3a\"],[0.8888888888888888,\"#fdca26\"],[1.0,\"#f0f921\"]]},\"colorway\":[\"#636efa\",\"#EF553B\",\"#00cc96\",\"#ab63fa\",\"#FFA15A\",\"#19d3f3\",\"#FF6692\",\"#B6E880\",\"#FF97FF\",\"#FECB52\"],\"font\":{\"color\":\"#2a3f5f\"},\"geo\":{\"bgcolor\":\"white\",\"lakecolor\":\"white\",\"landcolor\":\"#E5ECF6\",\"showlakes\":true,\"showland\":true,\"subunitcolor\":\"white\"},\"hoverlabel\":{\"align\":\"left\"},\"hovermode\":\"closest\",\"mapbox\":{\"style\":\"light\"},\"paper_bgcolor\":\"white\",\"plot_bgcolor\":\"#E5ECF6\",\"polar\":{\"angularaxis\":{\"gridcolor\":\"white\",\"linecolor\":\"white\",\"ticks\":\"\"},\"bgcolor\":\"#E5ECF6\",\"radialaxis\":{\"gridcolor\":\"white\",\"linecolor\":\"white\",\"ticks\":\"\"}},\"scene\":{\"xaxis\":{\"backgroundcolor\":\"#E5ECF6\",\"gridcolor\":\"white\",\"gridwidth\":2,\"linecolor\":\"white\",\"showbackground\":true,\"ticks\":\"\",\"zerolinecolor\":\"white\"},\"yaxis\":{\"backgroundcolor\":\"#E5ECF6\",\"gridcolor\":\"white\",\"gridwidth\":2,\"linecolor\":\"white\",\"showbackground\":true,\"ticks\":\"\",\"zerolinecolor\":\"white\"},\"zaxis\":{\"backgroundcolor\":\"#E5ECF6\",\"gridcolor\":\"white\",\"gridwidth\":2,\"linecolor\":\"white\",\"showbackground\":true,\"ticks\":\"\",\"zerolinecolor\":\"white\"}},\"shapedefaults\":{\"line\":{\"color\":\"#2a3f5f\"}},\"ternary\":{\"aaxis\":{\"gridcolor\":\"white\",\"linecolor\":\"white\",\"ticks\":\"\"},\"baxis\":{\"gridcolor\":\"white\",\"linecolor\":\"white\",\"ticks\":\"\"},\"bgcolor\":\"#E5ECF6\",\"caxis\":{\"gridcolor\":\"white\",\"linecolor\":\"white\",\"ticks\":\"\"}},\"title\":{\"x\":0.05},\"xaxis\":{\"automargin\":true,\"gridcolor\":\"white\",\"linecolor\":\"white\",\"ticks\":\"\",\"title\":{\"standoff\":15},\"zerolinecolor\":\"white\",\"zerolinewidth\":2},\"yaxis\":{\"automargin\":true,\"gridcolor\":\"white\",\"linecolor\":\"white\",\"ticks\":\"\",\"title\":{\"standoff\":15},\"zerolinecolor\":\"white\",\"zerolinewidth\":2}}},\"xaxis\":{\"anchor\":\"y\",\"domain\":[0.0,1.0],\"title\":{\"text\":\"movies\"}},\"yaxis\":{\"anchor\":\"x\",\"domain\":[0.0,1.0],\"title\":{\"text\":\"number of shared actors\"}},\"legend\":{\"tracegroupgap\":0},\"margin\":{\"t\":60},\"height\":300,\"width\":1500},                        {\"responsive\": true}                    ).then(function(){\n",
       "                            \n",
       "var gd = document.getElementById('7884a6f1-cd11-4dc7-89db-c259a9169e2c');\n",
       "var x = new MutationObserver(function (mutations, observer) {{\n",
       "        var display = window.getComputedStyle(gd).display;\n",
       "        if (!display || display === 'none') {{\n",
       "            console.log([gd, 'removed!']);\n",
       "            Plotly.purge(gd);\n",
       "            observer.disconnect();\n",
       "        }}\n",
       "}});\n",
       "\n",
       "// Listen for the removal of the full notebook cells\n",
       "var notebookContainer = gd.closest('#notebook-container');\n",
       "if (notebookContainer) {{\n",
       "    x.observe(notebookContainer, {childList: true});\n",
       "}}\n",
       "\n",
       "// Listen for the clearing of the current output cell\n",
       "var outputEl = gd.closest('.output');\n",
       "if (outputEl) {{\n",
       "    x.observe(outputEl, {childList: true});\n",
       "}}\n",
       "\n",
       "                        })                };                });            </script>        </div>"
      ]
     },
     "metadata": {},
     "output_type": "display_data"
    }
   ],
   "source": [
    "fig = px.scatter(data_frame = df, \n",
    "                 x = 'movies',\n",
    "                 y = 'number of shared actors', \n",
    "                 width = 1500,\n",
    "                 height = 300)\n",
    "fig.show()"
   ]
  }
 ],
 "metadata": {
  "kernelspec": {
   "display_name": "Python 3 (ipykernel)",
   "language": "python",
   "name": "python3"
  },
  "language_info": {
   "codemirror_mode": {
    "name": "ipython",
    "version": 3
   },
   "file_extension": ".py",
   "mimetype": "text/x-python",
   "name": "python",
   "nbconvert_exporter": "python",
   "pygments_lexer": "ipython3",
   "version": "3.9.7"
  }
 },
 "nbformat": 4,
 "nbformat_minor": 5
}
